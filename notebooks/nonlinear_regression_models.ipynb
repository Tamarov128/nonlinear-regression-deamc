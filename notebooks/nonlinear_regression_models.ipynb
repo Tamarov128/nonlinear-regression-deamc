{
 "cells": [
  {
   "cell_type": "markdown",
   "metadata": {},
   "source": [
    "<h1>\n",
    "  <center>\n",
    "    Nonlinear Regression Models\n",
    "  </center>\n",
    "</h1>"
   ]
  },
  {
   "cell_type": "markdown",
   "metadata": {},
   "source": [
    "## What is nonlinear regression?\n",
    "Nonlinear regression is a statistical technique that helps describe nonlinear relationships in experimental data. The data are fitted by a method of successive approximations (iterations).  \n",
    "\n",
    "As the name suggests, a nonlinear model is any model of the basic form, \n",
    "$$ y = f(\\vec{x};\\vec{\\beta}) + \\epsilon $$\n",
    "in which the functional part of the model is *not linear* with respect to the unknown parameters $\\beta_0, \\beta_1, ...$  \n",
    "\n",
    "To solve the problem of nonlinear regression, the *method of least squares* is used to estimate the values of the unknown parameters. The goal is finding a vector estimate $\\hat{\\vec{\\beta}}$ which minimizes the residual sum of squares,\n",
    "$$ Q = \\sum_{i=1}^n [y_i - f(\\vec{x_i},\\hat{\\vec{\\beta}})]^2 $$"
   ]
  },
  {
   "cell_type": "markdown",
   "metadata": {},
   "source": [
    "## Nonlinear regression models\n",
    "In a nonlinear regression model, the parameters can take the form of an exponential, trigonometric, power, or any other nonlinear function. Some examples of nonlinear models include:\n",
    "- Rational Function (Michaelis-Menten Type)\n",
    "  $$ f(x;\\vec{\\beta}) = \\frac{\\beta_0 + \\beta_1 x}{1 + \\beta_2 x} $$\n",
    "- Power Law (Allometric Model)\n",
    "  $$ f(x;\\vec{\\beta}) = \\beta_1 x^{\\beta_2} $$\n",
    "- Exponential Decay with Offset\n",
    "  $$ f(x;\\vec{\\beta}) = \\beta_0 + \\beta_1 \\exp{(- \\beta_2 x)} $$\n",
    "- Mixed Trigonometric Model (Harmonic Regression)\n",
    "  $$ f(\\vec{x};\\vec{\\beta}) = \\beta_1 \\sin{\\beta_2 + \\beta_3 x_1} + \\beta_4 \\cos{\\beta_5 + \\beta_6 x_2} $$  \n",
    "\n",
    "These functions model various natural processes and have applications in fields such as physics, astronomy, biology, chemistry and economics."
   ]
  },
  {
   "cell_type": "markdown",
   "metadata": {},
   "source": [
    "## NIST nonlinear regression dataset\n",
    "The National Institute of Standards and Technology (NIST) proposed a number datasets used for validating the accuracy and robustness of a certain minimization algorithm for nonlinear regression.  \n",
    "It includes both generated and \"real-world\" nonlinear least squares problems of varying levels of difficulty. Below are some of the datasets with their descriptions."
   ]
  },
  {
   "cell_type": "markdown",
   "metadata": {},
   "source": [
    "### Lower difficulty datasets\n",
    "| Dataset Name | Model Classification | Parameters | Observations | Source |\n",
    "| --- | --- | --- | --- | --- |\n",
    "| Misra1a | Exponential | 2 | 14 | Observed |\n",
    "| Chwirut1 | Exponential | 3 | 214 | Observed |\n",
    "| Lanczos3 | Exponential | 6 | 24 | Generated |\n",
    "| Gauss1 | Exponential | 8 | 250 | Generated |\n",
    "| DanWood | Miscellaneous | 2 | 6 | Observed |\n",
    "  \n",
    "### Average difficulty datasets\n",
    "| Dataset Name | Model Classification | Parameters | Observations | Source |\n",
    "| --- | --- | --- | --- | --- |\n",
    "| Kirby2 | Rational | 5 | 151 | Observed |\n",
    "| MGH17 | Exponential | 5 | 33 | Generated |\n",
    "| Lanczos1 | Exponential | 6 | 24 | Generated |\n",
    "| Misra1c | Miscellaneous | 2 | 14 | Observed |\n",
    "| Roszman1 | Miscellaneous | 4 | 25 | Observed |\n",
    "  \n",
    "### Higher difficulty datasets\n",
    "| Dataset Name | Model Classification | Parameters | Observations | Source |\n",
    "| --- | --- | --- | --- | --- |\n",
    "| Thurber | Rational | 7 | 37 | Observed |\n",
    "| Rat42 | Exponential | 3 | 9 | Observed |\n",
    "| MGH10 | Exponential | 3 | 16 | Generated |\n",
    "| Eckerle4 | Exponential | 3 | 35 | Observed |\n",
    "| Bennett5 | Miscellaneous | 3 | 154 | Observed |"
   ]
  },
  {
   "cell_type": "markdown",
   "metadata": {},
   "source": [
    "## References\n",
    "- National Institute of Standards and Technology (NIST). (n.d.). *Nonlinear Least Squares Regression*.  \n",
    "  Retrieved May 10, 2025, from https://www.itl.nist.gov/div898/handbook/pmd/section1/pmd142.htm\n",
    "  \n",
    "- National Institute of Standards and Technology (NIST). (n.d.). *Nonlinear Least Squares Regression Background Information*.  \n",
    "  Retrieved May 10, 2025, from https://www.itl.nist.gov/div898/strd/nls/nls_info.shtml\n",
    "\n",
    "- National Institute of Standards and Technology (NIST). (n.d.). *Statistical Reference Datasets (STRD)*.  \n",
    "  Retrieved May 10, 2025, from https://www.itl.nist.gov/div898/strd/frames.html  "
   ]
  }
 ],
 "metadata": {
  "kernelspec": {
   "display_name": "Python 3.12.9 ('metaheuristics')",
   "language": "python",
   "name": "python3"
  },
  "language_info": {
   "name": "python",
   "version": "3.12.9"
  },
  "orig_nbformat": 4,
  "vscode": {
   "interpreter": {
    "hash": "bf5ca1471e287d84e770860e3a5b12a527fd6ab3a1591b3187ada8367db7b9bf"
   }
  }
 },
 "nbformat": 4,
 "nbformat_minor": 2
}
